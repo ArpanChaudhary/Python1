{
 "cells": [
  {
   "cell_type": "markdown",
   "metadata": {},
   "source": [
    "## Taking out all possible substring from a string"
   ]
  },
  {
   "cell_type": "code",
   "execution_count": 1,
   "metadata": {},
   "outputs": [
    {
     "name": "stdout",
     "output_type": "stream",
     "text": [
      "H\n",
      "He\n",
      "Hel\n",
      "Hell\n",
      "Hello\n",
      "Hello \n",
      "Hello P\n",
      "Hello Py\n",
      "Hello Pyt\n",
      "Hello Pyth\n",
      "Hello Pytho\n",
      "Hello Python\n",
      "e\n",
      "el\n",
      "ell\n",
      "ello\n",
      "ello \n",
      "ello P\n",
      "ello Py\n",
      "ello Pyt\n",
      "ello Pyth\n",
      "ello Pytho\n",
      "ello Python\n",
      "l\n",
      "ll\n",
      "llo\n",
      "llo \n",
      "llo P\n",
      "llo Py\n",
      "llo Pyt\n",
      "llo Pyth\n",
      "llo Pytho\n",
      "llo Python\n",
      "l\n",
      "lo\n",
      "lo \n",
      "lo P\n",
      "lo Py\n",
      "lo Pyt\n",
      "lo Pyth\n",
      "lo Pytho\n",
      "lo Python\n",
      "o\n",
      "o \n",
      "o P\n",
      "o Py\n",
      "o Pyt\n",
      "o Pyth\n",
      "o Pytho\n",
      "o Python\n",
      " \n",
      " P\n",
      " Py\n",
      " Pyt\n",
      " Pyth\n",
      " Pytho\n",
      " Python\n",
      "P\n",
      "Py\n",
      "Pyt\n",
      "Pyth\n",
      "Pytho\n",
      "Python\n",
      "y\n",
      "yt\n",
      "yth\n",
      "ytho\n",
      "ython\n",
      "t\n",
      "th\n",
      "tho\n",
      "thon\n",
      "h\n",
      "ho\n",
      "hon\n",
      "o\n",
      "on\n",
      "n\n"
     ]
    }
   ],
   "source": [
    "string = \"Hello Python\"\n",
    "\n",
    "for start in range(len(string)):\n",
    "    for end in range(start+1,len(string)+1):\n",
    "        print(string[start:end])"
   ]
  },
  {
   "cell_type": "code",
   "execution_count": null,
   "metadata": {},
   "outputs": [],
   "source": []
  }
 ],
 "metadata": {
  "kernelspec": {
   "display_name": "base",
   "language": "python",
   "name": "python3"
  },
  "language_info": {
   "codemirror_mode": {
    "name": "ipython",
    "version": 3
   },
   "file_extension": ".py",
   "mimetype": "text/x-python",
   "name": "python",
   "nbconvert_exporter": "python",
   "pygments_lexer": "ipython3",
   "version": "3.12.4"
  }
 },
 "nbformat": 4,
 "nbformat_minor": 2
}
